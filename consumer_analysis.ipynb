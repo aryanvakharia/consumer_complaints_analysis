{
 "cells": [
  {
   "cell_type": "code",
   "execution_count": 24,
   "id": "0060a11a",
   "metadata": {},
   "outputs": [],
   "source": [
    "import pandas as pd\n",
    "import numpy as np\n",
    "import matplotlib.pyplot as plt\n",
    "import nltk\n",
    "%matplotlib inline"
   ]
  },
  {
   "cell_type": "markdown",
   "id": "d2a97118",
   "metadata": {},
   "source": [
    "## Introduction\n",
    "In this notebook I will be analyzing the counts and percentage of **disputed** customer complaints with regard to financial institutions, states and financial products along with a quick and dirty machine learning model to give a rough prediction of when the disputes will occur"
   ]
  },
  {
   "cell_type": "markdown",
   "id": "69ab7e9e",
   "metadata": {},
   "source": [
    "### Importing and Cleaning Data"
   ]
  },
  {
   "cell_type": "code",
   "execution_count": 25,
   "id": "f92ee33a",
   "metadata": {},
   "outputs": [
    {
     "data": {
      "text/html": [
       "<div>\n",
       "<style scoped>\n",
       "    .dataframe tbody tr th:only-of-type {\n",
       "        vertical-align: middle;\n",
       "    }\n",
       "\n",
       "    .dataframe tbody tr th {\n",
       "        vertical-align: top;\n",
       "    }\n",
       "\n",
       "    .dataframe thead th {\n",
       "        text-align: right;\n",
       "    }\n",
       "</style>\n",
       "<table border=\"1\" class=\"dataframe\">\n",
       "  <thead>\n",
       "    <tr style=\"text-align: right;\">\n",
       "      <th></th>\n",
       "      <th>date_received</th>\n",
       "      <th>product</th>\n",
       "      <th>sub_product</th>\n",
       "      <th>issue</th>\n",
       "      <th>sub_issue</th>\n",
       "      <th>consumer_complaint_narrative</th>\n",
       "      <th>company_public_response</th>\n",
       "      <th>company</th>\n",
       "      <th>state</th>\n",
       "      <th>zipcode</th>\n",
       "      <th>tags</th>\n",
       "      <th>consumer_consent_provided</th>\n",
       "      <th>submitted_via</th>\n",
       "      <th>date_sent_to_company</th>\n",
       "      <th>company_response_to_consumer</th>\n",
       "      <th>timely_response</th>\n",
       "      <th>consumer_disputed?</th>\n",
       "      <th>complaint_id</th>\n",
       "    </tr>\n",
       "  </thead>\n",
       "  <tbody>\n",
       "    <tr>\n",
       "      <th>0</th>\n",
       "      <td>2013-08-30</td>\n",
       "      <td>Mortgage</td>\n",
       "      <td>Other mortgage</td>\n",
       "      <td>Loan modification,collection,foreclosure</td>\n",
       "      <td>NaN</td>\n",
       "      <td>NaN</td>\n",
       "      <td>NaN</td>\n",
       "      <td>U.S. Bancorp</td>\n",
       "      <td>CA</td>\n",
       "      <td>95993</td>\n",
       "      <td>NaN</td>\n",
       "      <td>NaN</td>\n",
       "      <td>Referral</td>\n",
       "      <td>2013-09-03</td>\n",
       "      <td>Closed with explanation</td>\n",
       "      <td>Yes</td>\n",
       "      <td>Yes</td>\n",
       "      <td>511074</td>\n",
       "    </tr>\n",
       "    <tr>\n",
       "      <th>1</th>\n",
       "      <td>2013-08-30</td>\n",
       "      <td>Mortgage</td>\n",
       "      <td>Other mortgage</td>\n",
       "      <td>Loan servicing, payments, escrow account</td>\n",
       "      <td>NaN</td>\n",
       "      <td>NaN</td>\n",
       "      <td>NaN</td>\n",
       "      <td>Wells Fargo &amp; Company</td>\n",
       "      <td>CA</td>\n",
       "      <td>91104</td>\n",
       "      <td>NaN</td>\n",
       "      <td>NaN</td>\n",
       "      <td>Referral</td>\n",
       "      <td>2013-09-03</td>\n",
       "      <td>Closed with explanation</td>\n",
       "      <td>Yes</td>\n",
       "      <td>Yes</td>\n",
       "      <td>511080</td>\n",
       "    </tr>\n",
       "    <tr>\n",
       "      <th>2</th>\n",
       "      <td>2013-08-30</td>\n",
       "      <td>Credit reporting</td>\n",
       "      <td>NaN</td>\n",
       "      <td>Incorrect information on credit report</td>\n",
       "      <td>Account status</td>\n",
       "      <td>NaN</td>\n",
       "      <td>NaN</td>\n",
       "      <td>Wells Fargo &amp; Company</td>\n",
       "      <td>NY</td>\n",
       "      <td>11764</td>\n",
       "      <td>NaN</td>\n",
       "      <td>NaN</td>\n",
       "      <td>Postal mail</td>\n",
       "      <td>2013-09-18</td>\n",
       "      <td>Closed with explanation</td>\n",
       "      <td>Yes</td>\n",
       "      <td>No</td>\n",
       "      <td>510473</td>\n",
       "    </tr>\n",
       "    <tr>\n",
       "      <th>3</th>\n",
       "      <td>2013-08-30</td>\n",
       "      <td>Student loan</td>\n",
       "      <td>Non-federal student loan</td>\n",
       "      <td>Repaying your loan</td>\n",
       "      <td>Repaying your loan</td>\n",
       "      <td>NaN</td>\n",
       "      <td>NaN</td>\n",
       "      <td>Navient Solutions, Inc.</td>\n",
       "      <td>MD</td>\n",
       "      <td>21402</td>\n",
       "      <td>NaN</td>\n",
       "      <td>NaN</td>\n",
       "      <td>Email</td>\n",
       "      <td>2013-08-30</td>\n",
       "      <td>Closed with explanation</td>\n",
       "      <td>Yes</td>\n",
       "      <td>Yes</td>\n",
       "      <td>510326</td>\n",
       "    </tr>\n",
       "    <tr>\n",
       "      <th>4</th>\n",
       "      <td>2013-08-30</td>\n",
       "      <td>Debt collection</td>\n",
       "      <td>Credit card</td>\n",
       "      <td>False statements or representation</td>\n",
       "      <td>Attempted to collect wrong amount</td>\n",
       "      <td>NaN</td>\n",
       "      <td>NaN</td>\n",
       "      <td>Resurgent Capital Services L.P.</td>\n",
       "      <td>GA</td>\n",
       "      <td>30106</td>\n",
       "      <td>NaN</td>\n",
       "      <td>NaN</td>\n",
       "      <td>Web</td>\n",
       "      <td>2013-08-30</td>\n",
       "      <td>Closed with explanation</td>\n",
       "      <td>Yes</td>\n",
       "      <td>Yes</td>\n",
       "      <td>511067</td>\n",
       "    </tr>\n",
       "  </tbody>\n",
       "</table>\n",
       "</div>"
      ],
      "text/plain": [
       "  date_received           product               sub_product  \\\n",
       "0    2013-08-30          Mortgage            Other mortgage   \n",
       "1    2013-08-30          Mortgage            Other mortgage   \n",
       "2    2013-08-30  Credit reporting                       NaN   \n",
       "3    2013-08-30      Student loan  Non-federal student loan   \n",
       "4    2013-08-30   Debt collection               Credit card   \n",
       "\n",
       "                                      issue  \\\n",
       "0  Loan modification,collection,foreclosure   \n",
       "1  Loan servicing, payments, escrow account   \n",
       "2    Incorrect information on credit report   \n",
       "3                        Repaying your loan   \n",
       "4        False statements or representation   \n",
       "\n",
       "                           sub_issue consumer_complaint_narrative  \\\n",
       "0                                NaN                          NaN   \n",
       "1                                NaN                          NaN   \n",
       "2                     Account status                          NaN   \n",
       "3                 Repaying your loan                          NaN   \n",
       "4  Attempted to collect wrong amount                          NaN   \n",
       "\n",
       "  company_public_response                          company state zipcode tags  \\\n",
       "0                     NaN                     U.S. Bancorp    CA   95993  NaN   \n",
       "1                     NaN            Wells Fargo & Company    CA   91104  NaN   \n",
       "2                     NaN            Wells Fargo & Company    NY   11764  NaN   \n",
       "3                     NaN          Navient Solutions, Inc.    MD   21402  NaN   \n",
       "4                     NaN  Resurgent Capital Services L.P.    GA   30106  NaN   \n",
       "\n",
       "  consumer_consent_provided submitted_via date_sent_to_company  \\\n",
       "0                       NaN      Referral           2013-09-03   \n",
       "1                       NaN      Referral           2013-09-03   \n",
       "2                       NaN   Postal mail           2013-09-18   \n",
       "3                       NaN         Email           2013-08-30   \n",
       "4                       NaN           Web           2013-08-30   \n",
       "\n",
       "  company_response_to_consumer timely_response consumer_disputed?  \\\n",
       "0      Closed with explanation             Yes                Yes   \n",
       "1      Closed with explanation             Yes                Yes   \n",
       "2      Closed with explanation             Yes                 No   \n",
       "3      Closed with explanation             Yes                Yes   \n",
       "4      Closed with explanation             Yes                Yes   \n",
       "\n",
       "   complaint_id  \n",
       "0        511074  \n",
       "1        511080  \n",
       "2        510473  \n",
       "3        510326  \n",
       "4        511067  "
      ]
     },
     "execution_count": 25,
     "metadata": {},
     "output_type": "execute_result"
    }
   ],
   "source": [
    "df = pd.read_csv('consumer_complaints.csv', parse_dates=['date_received', 'date_sent_to_company'], low_memory=False)\n",
    "df.head()"
   ]
  },
  {
   "cell_type": "markdown",
   "id": "8f01fecb",
   "metadata": {},
   "source": [
    "Having a clean dataset allows for higher accuracy in visualizing, analyzing and in this case predicting on the dataset. In order to make the most efficient use of the above data, I am checking for the number of empty/NaN rows:"
   ]
  },
  {
   "cell_type": "code",
   "execution_count": 26,
   "id": "73bf52d6",
   "metadata": {},
   "outputs": [
    {
     "data": {
      "text/plain": [
       "date_received                        0\n",
       "product                              0\n",
       "sub_product                     158322\n",
       "issue                                0\n",
       "sub_issue                       343335\n",
       "consumer_complaint_narrative    489151\n",
       "company_public_response         470833\n",
       "company                              0\n",
       "state                             4887\n",
       "zipcode                           4505\n",
       "tags                            477998\n",
       "consumer_consent_provided       432499\n",
       "submitted_via                        0\n",
       "date_sent_to_company                 0\n",
       "company_response_to_consumer         0\n",
       "timely_response                      0\n",
       "consumer_disputed?                   0\n",
       "complaint_id                         0\n",
       "dtype: int64"
      ]
     },
     "execution_count": 26,
     "metadata": {},
     "output_type": "execute_result"
    }
   ],
   "source": [
    "#Check NaNs\n",
    "df.isna().sum()"
   ]
  },
  {
   "cell_type": "markdown",
   "id": "ab4ba910",
   "metadata": {},
   "source": [
    "From the above output it is evident that the dataset if populated with many NaNs. However, removing all NaN values can cause overfitting in the prediction model and inaccuracies in the data analysis.\n",
    "\n",
    "So, keeping threshold of *column contains >= 10% NaNs* we will clean each column"
   ]
  },
  {
   "cell_type": "code",
   "execution_count": 27,
   "id": "9d108372",
   "metadata": {},
   "outputs": [
    {
     "data": {
      "text/plain": [
       "sub_product                     0.284774\n",
       "sub_issue                       0.617557\n",
       "consumer_complaint_narrative    0.879836\n",
       "company_public_response         0.846887\n",
       "tags                            0.859775\n",
       "consumer_consent_provided       0.777936\n",
       "dtype: float64"
      ]
     },
     "execution_count": 27,
     "metadata": {},
     "output_type": "execute_result"
    }
   ],
   "source": [
    "thresh = 0.10\n",
    "col_nans = df.isna().mean(axis=0)\n",
    "col_w_thresh = col_nans[col_nans >= thresh]\n",
    "col_w_thresh"
   ]
  },
  {
   "cell_type": "markdown",
   "id": "d99b598e",
   "metadata": {},
   "source": [
    "The above columns will now be dropped as they have too many NaNs to have any use in our dataset. \n",
    "*NOTE:* Along with these, the *complaint_id* column will aso be dropped for not being relevant in our analysis"
   ]
  },
  {
   "cell_type": "code",
   "execution_count": 28,
   "id": "b92e9fc1",
   "metadata": {},
   "outputs": [
    {
     "data": {
      "text/html": [
       "<div>\n",
       "<style scoped>\n",
       "    .dataframe tbody tr th:only-of-type {\n",
       "        vertical-align: middle;\n",
       "    }\n",
       "\n",
       "    .dataframe tbody tr th {\n",
       "        vertical-align: top;\n",
       "    }\n",
       "\n",
       "    .dataframe thead th {\n",
       "        text-align: right;\n",
       "    }\n",
       "</style>\n",
       "<table border=\"1\" class=\"dataframe\">\n",
       "  <thead>\n",
       "    <tr style=\"text-align: right;\">\n",
       "      <th></th>\n",
       "      <th>date_received</th>\n",
       "      <th>product</th>\n",
       "      <th>issue</th>\n",
       "      <th>company</th>\n",
       "      <th>state</th>\n",
       "      <th>zipcode</th>\n",
       "      <th>submitted_via</th>\n",
       "      <th>date_sent_to_company</th>\n",
       "      <th>company_response_to_consumer</th>\n",
       "      <th>timely_response</th>\n",
       "      <th>consumer_disputed?</th>\n",
       "    </tr>\n",
       "  </thead>\n",
       "  <tbody>\n",
       "    <tr>\n",
       "      <th>0</th>\n",
       "      <td>2013-08-30</td>\n",
       "      <td>Mortgage</td>\n",
       "      <td>Loan modification,collection,foreclosure</td>\n",
       "      <td>U.S. Bancorp</td>\n",
       "      <td>CA</td>\n",
       "      <td>95993</td>\n",
       "      <td>Referral</td>\n",
       "      <td>2013-09-03</td>\n",
       "      <td>1</td>\n",
       "      <td>1</td>\n",
       "      <td>1</td>\n",
       "    </tr>\n",
       "    <tr>\n",
       "      <th>1</th>\n",
       "      <td>2013-08-30</td>\n",
       "      <td>Mortgage</td>\n",
       "      <td>Loan servicing, payments, escrow account</td>\n",
       "      <td>Wells Fargo &amp; Company</td>\n",
       "      <td>CA</td>\n",
       "      <td>91104</td>\n",
       "      <td>Referral</td>\n",
       "      <td>2013-09-03</td>\n",
       "      <td>1</td>\n",
       "      <td>1</td>\n",
       "      <td>1</td>\n",
       "    </tr>\n",
       "    <tr>\n",
       "      <th>2</th>\n",
       "      <td>2013-08-30</td>\n",
       "      <td>Credit reporting</td>\n",
       "      <td>Incorrect information on credit report</td>\n",
       "      <td>Wells Fargo &amp; Company</td>\n",
       "      <td>NY</td>\n",
       "      <td>11764</td>\n",
       "      <td>Postal mail</td>\n",
       "      <td>2013-09-18</td>\n",
       "      <td>1</td>\n",
       "      <td>1</td>\n",
       "      <td>0</td>\n",
       "    </tr>\n",
       "    <tr>\n",
       "      <th>3</th>\n",
       "      <td>2013-08-30</td>\n",
       "      <td>Student loan</td>\n",
       "      <td>Repaying your loan</td>\n",
       "      <td>Navient Solutions, Inc.</td>\n",
       "      <td>MD</td>\n",
       "      <td>21402</td>\n",
       "      <td>Email</td>\n",
       "      <td>2013-08-30</td>\n",
       "      <td>1</td>\n",
       "      <td>1</td>\n",
       "      <td>1</td>\n",
       "    </tr>\n",
       "    <tr>\n",
       "      <th>4</th>\n",
       "      <td>2013-08-30</td>\n",
       "      <td>Debt collection</td>\n",
       "      <td>False statements or representation</td>\n",
       "      <td>Resurgent Capital Services L.P.</td>\n",
       "      <td>GA</td>\n",
       "      <td>30106</td>\n",
       "      <td>Web</td>\n",
       "      <td>2013-08-30</td>\n",
       "      <td>1</td>\n",
       "      <td>1</td>\n",
       "      <td>1</td>\n",
       "    </tr>\n",
       "  </tbody>\n",
       "</table>\n",
       "</div>"
      ],
      "text/plain": [
       "  date_received           product                                     issue  \\\n",
       "0    2013-08-30          Mortgage  Loan modification,collection,foreclosure   \n",
       "1    2013-08-30          Mortgage  Loan servicing, payments, escrow account   \n",
       "2    2013-08-30  Credit reporting    Incorrect information on credit report   \n",
       "3    2013-08-30      Student loan                        Repaying your loan   \n",
       "4    2013-08-30   Debt collection        False statements or representation   \n",
       "\n",
       "                           company state zipcode submitted_via  \\\n",
       "0                     U.S. Bancorp    CA   95993      Referral   \n",
       "1            Wells Fargo & Company    CA   91104      Referral   \n",
       "2            Wells Fargo & Company    NY   11764   Postal mail   \n",
       "3          Navient Solutions, Inc.    MD   21402         Email   \n",
       "4  Resurgent Capital Services L.P.    GA   30106           Web   \n",
       "\n",
       "  date_sent_to_company company_response_to_consumer  timely_response  \\\n",
       "0           2013-09-03                            1                1   \n",
       "1           2013-09-03                            1                1   \n",
       "2           2013-09-18                            1                1   \n",
       "3           2013-08-30                            1                1   \n",
       "4           2013-08-30                            1                1   \n",
       "\n",
       "   consumer_disputed?  \n",
       "0                   1  \n",
       "1                   1  \n",
       "2                   0  \n",
       "3                   1  \n",
       "4                   1  "
      ]
     },
     "execution_count": 28,
     "metadata": {},
     "output_type": "execute_result"
    }
   ],
   "source": [
    "drops_l = list(col_w_thresh.index) + ['complaint_id']\n",
    "df = df.drop(drops_l, axis=1)\n",
    "\n",
    "#Tokenizing Yes and No to 1 and 0 respectively\n",
    "df = df.replace(['Yes', 'No'], [1, 0])\n",
    "\n",
    "df.loc[df['company_response_to_consumer'].str.contains(\"Closed\"), 'company_response_to_consumer'] = 1\n",
    "df.loc[df['company_response_to_consumer'] != 1, 'company_response_to_consumer'] = 0\n",
    "df.head()"
   ]
  },
  {
   "cell_type": "markdown",
   "id": "058a75dd",
   "metadata": {},
   "source": [
    "### Data Analysis and Visualization\n",
    "Since I will be mainly checking the count AND rate of disputed issues, the following functions will be used to get these metrics as a DataFrame:"
   ]
  },
  {
   "cell_type": "code",
   "execution_count": 49,
   "id": "003c9fab",
   "metadata": {},
   "outputs": [],
   "source": [
    "#disp_cat = \"\"\n",
    "def is_disputed(row, cat):\n",
    "    return df[(df['consumer_disputed?'] == 1) & (df[cat] == row[cat])]['consumer_disputed?'].sum()\n",
    "\n",
    "def get_count(cat, data=df):\n",
    "    #disp_cat = cat\n",
    "    df_by_cat = df[[cat, 'issue', 'consumer_disputed?']].groupby([cat]).count().reset_index()\n",
    "    \n",
    "    df_by_cat['consumer_disputed?'] = df_by_cat.apply(lambda r: is_disputed(r, cat), axis=1)\n",
    "    \n",
    "    df_by_cat['dispute_rate'] = df_by_cat.apply(lambda r: (r['consumer_disputed?'] / r['issue']) * 100, axis=1)\n",
    "    \n",
    "    return df_by_cat"
   ]
  },
  {
   "cell_type": "code",
   "execution_count": 58,
   "id": "e14ee9fa",
   "metadata": {},
   "outputs": [
    {
     "name": "stdout",
     "output_type": "stream",
     "text": [
      "State is CA with disputes: 17615\n"
     ]
    }
   ],
   "source": [
    "#State with most disputes using above function:\n",
    "disp_st = get_count('state')\n",
    "st_c = disp_st['consumer_disputed?']\n",
    "m_st = disp_st['state'][pd.Series.argmax(st_c)]\n",
    "m_c = disp_st['consumer_disputed?'][pd.Series.argmax(st_c)]\n",
    "print(\"State is\", m_st, \"with disputes:\", m_c)"
   ]
  },
  {
   "cell_type": "code",
   "execution_count": 63,
   "id": "54fb77df",
   "metadata": {},
   "outputs": [
    {
     "data": {
      "text/plain": [
       "<BarContainer object of 62 artists>"
      ]
     },
     "execution_count": 63,
     "metadata": {},
     "output_type": "execute_result"
    },
    {
     "data": {
      "image/png": "[encoded data removed]",
      "text/plain": [
       "<Figure size 1440x648 with 1 Axes>"
      ]
     },
     "metadata": {
      "needs_background": "light"
     },
     "output_type": "display_data"
    }
   ],
   "source": [
    "fig1, ax1 = plt.subplots(figsize=(20, 9))\n",
    "ax1.bar(disp_st['state'], disp_st['consumer_disputed?'])"
   ]
  },
  {
   "cell_type": "code",
   "execution_count": 65,
   "id": "ab922be3",
   "metadata": {},
   "outputs": [
    {
     "data": {
      "text/plain": [
       "<BarContainer object of 62 artists>"
      ]
     },
     "execution_count": 65,
     "metadata": {},
     "output_type": "execute_result"
    },
    {
     "data": {
      "image/png": "[encoded data removed]",
      "text/plain": [
       "<Figure size 1440x648 with 1 Axes>"
      ]
     },
     "metadata": {
      "needs_background": "light"
     },
     "output_type": "display_data"
    }
   ],
   "source": [
    "fig2, ax2 = plt.subplots(figsize=(20, 9))\n",
    "ax2.bar(disp_st['state'], disp_st['dispute_rate'])"
   ]
  },
  {
   "cell_type": "code",
   "execution_count": 29,
   "id": "17ec819c",
   "metadata": {},
   "outputs": [],
   "source": [
    "#Getting count of issues per state with products\n",
    "state_issue_count = df.groupby(['state', 'product', 'issue']).size().reset_index()\n",
    "state_issue_count.columns = ['state', 'product', 'issue','count']"
   ]
  },
  {
   "cell_type": "code",
   "execution_count": 9,
   "id": "15c92542",
   "metadata": {},
   "outputs": [
    {
     "data": {
      "text/html": [
       "<div>\n",
       "<style scoped>\n",
       "    .dataframe tbody tr th:only-of-type {\n",
       "        vertical-align: middle;\n",
       "    }\n",
       "\n",
       "    .dataframe tbody tr th {\n",
       "        vertical-align: top;\n",
       "    }\n",
       "\n",
       "    .dataframe thead th {\n",
       "        text-align: right;\n",
       "    }\n",
       "</style>\n",
       "<table border=\"1\" class=\"dataframe\">\n",
       "  <thead>\n",
       "    <tr style=\"text-align: right;\">\n",
       "      <th></th>\n",
       "      <th>state</th>\n",
       "      <th>product</th>\n",
       "      <th>issue</th>\n",
       "      <th>count</th>\n",
       "    </tr>\n",
       "  </thead>\n",
       "  <tbody>\n",
       "    <tr>\n",
       "      <th>501</th>\n",
       "      <td>CA</td>\n",
       "      <td>Mortgage</td>\n",
       "      <td>Loan modification,collection,foreclosure</td>\n",
       "      <td>19433</td>\n",
       "    </tr>\n",
       "    <tr>\n",
       "      <th>942</th>\n",
       "      <td>FL</td>\n",
       "      <td>Mortgage</td>\n",
       "      <td>Loan modification,collection,foreclosure</td>\n",
       "      <td>11337</td>\n",
       "    </tr>\n",
       "    <tr>\n",
       "      <th>502</th>\n",
       "      <td>CA</td>\n",
       "      <td>Mortgage</td>\n",
       "      <td>Loan servicing, payments, escrow account</td>\n",
       "      <td>8957</td>\n",
       "    </tr>\n",
       "    <tr>\n",
       "      <th>4028</th>\n",
       "      <td>TX</td>\n",
       "      <td>Credit reporting</td>\n",
       "      <td>Incorrect information on credit report</td>\n",
       "      <td>8712</td>\n",
       "    </tr>\n",
       "    <tr>\n",
       "      <th>485</th>\n",
       "      <td>CA</td>\n",
       "      <td>Credit reporting</td>\n",
       "      <td>Incorrect information on credit report</td>\n",
       "      <td>8585</td>\n",
       "    </tr>\n",
       "  </tbody>\n",
       "</table>\n",
       "</div>"
      ],
      "text/plain": [
       "     state           product                                     issue  count\n",
       "501     CA          Mortgage  Loan modification,collection,foreclosure  19433\n",
       "942     FL          Mortgage  Loan modification,collection,foreclosure  11337\n",
       "502     CA          Mortgage  Loan servicing, payments, escrow account   8957\n",
       "4028    TX  Credit reporting    Incorrect information on credit report   8712\n",
       "485     CA  Credit reporting    Incorrect information on credit report   8585"
      ]
     },
     "execution_count": 9,
     "metadata": {},
     "output_type": "execute_result"
    }
   ],
   "source": [
    "#States with 5 highest dispute counts, issues and product\n",
    "state_issue_count.sort_values(by = 'count', ascending = False).head()"
   ]
  },
  {
   "cell_type": "code",
   "execution_count": 10,
   "id": "63fa2a3a",
   "metadata": {},
   "outputs": [
    {
     "data": {
      "text/html": [
       "<div>\n",
       "<style scoped>\n",
       "    .dataframe tbody tr th:only-of-type {\n",
       "        vertical-align: middle;\n",
       "    }\n",
       "\n",
       "    .dataframe tbody tr th {\n",
       "        vertical-align: top;\n",
       "    }\n",
       "\n",
       "    .dataframe thead th {\n",
       "        text-align: right;\n",
       "    }\n",
       "</style>\n",
       "<table border=\"1\" class=\"dataframe\">\n",
       "  <thead>\n",
       "    <tr style=\"text-align: right;\">\n",
       "      <th></th>\n",
       "      <th>state</th>\n",
       "      <th>product</th>\n",
       "      <th>issue</th>\n",
       "      <th>count</th>\n",
       "    </tr>\n",
       "  </thead>\n",
       "  <tbody>\n",
       "    <tr>\n",
       "      <th>3083</th>\n",
       "      <td>NV</td>\n",
       "      <td>Prepaid card</td>\n",
       "      <td>Overdraft, savings or rewards features</td>\n",
       "      <td>1</td>\n",
       "    </tr>\n",
       "    <tr>\n",
       "      <th>347</th>\n",
       "      <td>AZ</td>\n",
       "      <td>Consumer Loan</td>\n",
       "      <td>Payment to acct not credited</td>\n",
       "      <td>1</td>\n",
       "    </tr>\n",
       "    <tr>\n",
       "      <th>344</th>\n",
       "      <td>AZ</td>\n",
       "      <td>Consumer Loan</td>\n",
       "      <td>Lender repossessed or sold the vehicle</td>\n",
       "      <td>1</td>\n",
       "    </tr>\n",
       "    <tr>\n",
       "      <th>1</th>\n",
       "      <td>AA</td>\n",
       "      <td>Credit card</td>\n",
       "      <td>Identity theft / Fraud / Embezzlement</td>\n",
       "      <td>1</td>\n",
       "    </tr>\n",
       "    <tr>\n",
       "      <th>0</th>\n",
       "      <td>AA</td>\n",
       "      <td>Bank account or service</td>\n",
       "      <td>Account opening, closing, or management</td>\n",
       "      <td>1</td>\n",
       "    </tr>\n",
       "  </tbody>\n",
       "</table>\n",
       "</div>"
      ],
      "text/plain": [
       "     state                  product                                    issue  \\\n",
       "3083    NV             Prepaid card   Overdraft, savings or rewards features   \n",
       "347     AZ            Consumer Loan             Payment to acct not credited   \n",
       "344     AZ            Consumer Loan   Lender repossessed or sold the vehicle   \n",
       "1       AA              Credit card    Identity theft / Fraud / Embezzlement   \n",
       "0       AA  Bank account or service  Account opening, closing, or management   \n",
       "\n",
       "      count  \n",
       "3083      1  \n",
       "347       1  \n",
       "344       1  \n",
       "1         1  \n",
       "0         1  "
      ]
     },
     "execution_count": 10,
     "metadata": {},
     "output_type": "execute_result"
    }
   ],
   "source": [
    "#States with 5 lowest dispute counts with related issues and products\n",
    "state_issue_count.sort_values(by = 'count', ascending = False).tail()"
   ]
  },
  {
   "cell_type": "markdown",
   "id": "bd01caa6",
   "metadata": {},
   "source": [
    "**Analysis**: As the above console output and bar graphs show, states with higher populations such as CA, NY, TX etc tend to have more disputes over financial issues. Moreover, West Coast states have a higher tendency to dipute complaints. Laws regarding financial products and the companies headquartered in these states are areas which can be further analysed for why they yield such high issue counts"
   ]
  },
  {
   "cell_type": "code",
   "execution_count": 21,
   "id": "95b32810",
   "metadata": {},
   "outputs": [
    {
     "data": {
      "text/html": [
       "<div>\n",
       "<style scoped>\n",
       "    .dataframe tbody tr th:only-of-type {\n",
       "        vertical-align: middle;\n",
       "    }\n",
       "\n",
       "    .dataframe tbody tr th {\n",
       "        vertical-align: top;\n",
       "    }\n",
       "\n",
       "    .dataframe thead th {\n",
       "        text-align: right;\n",
       "    }\n",
       "</style>\n",
       "<table border=\"1\" class=\"dataframe\">\n",
       "  <thead>\n",
       "    <tr style=\"text-align: right;\">\n",
       "      <th></th>\n",
       "      <th>product</th>\n",
       "      <th>issue</th>\n",
       "      <th>count</th>\n",
       "    </tr>\n",
       "  </thead>\n",
       "  <tbody>\n",
       "    <tr>\n",
       "      <th>75</th>\n",
       "      <td>Mortgage</td>\n",
       "      <td>Loan modification,collection,foreclosure</td>\n",
       "      <td>97191</td>\n",
       "    </tr>\n",
       "    <tr>\n",
       "      <th>59</th>\n",
       "      <td>Credit reporting</td>\n",
       "      <td>Incorrect information on credit report</td>\n",
       "      <td>66718</td>\n",
       "    </tr>\n",
       "    <tr>\n",
       "      <th>76</th>\n",
       "      <td>Mortgage</td>\n",
       "      <td>Loan servicing, payments, escrow account</td>\n",
       "      <td>60375</td>\n",
       "    </tr>\n",
       "    <tr>\n",
       "      <th>62</th>\n",
       "      <td>Debt collection</td>\n",
       "      <td>Cont'd attempts collect debt not owed</td>\n",
       "      <td>42285</td>\n",
       "    </tr>\n",
       "    <tr>\n",
       "      <th>0</th>\n",
       "      <td>Bank account or service</td>\n",
       "      <td>Account opening, closing, or management</td>\n",
       "      <td>26661</td>\n",
       "    </tr>\n",
       "  </tbody>\n",
       "</table>\n",
       "</div>"
      ],
      "text/plain": [
       "                    product                                     issue  count\n",
       "75                 Mortgage  Loan modification,collection,foreclosure  97191\n",
       "59         Credit reporting    Incorrect information on credit report  66718\n",
       "76                 Mortgage  Loan servicing, payments, escrow account  60375\n",
       "62          Debt collection     Cont'd attempts collect debt not owed  42285\n",
       "0   Bank account or service   Account opening, closing, or management  26661"
      ]
     },
     "execution_count": 21,
     "metadata": {},
     "output_type": "execute_result"
    }
   ],
   "source": [
    "#Highest issues per product\n",
    "product_issue_count = df.groupby(['product', 'issue']).size().reset_index()\n",
    "product_issue_count.columns = ['product', 'issue', 'count']\n",
    "product_issue_count.sort_values(by = 'count', ascending=False).head()"
   ]
  },
  {
   "cell_type": "code",
   "execution_count": 23,
   "id": "cd258ff1",
   "metadata": {},
   "outputs": [
    {
     "data": {
      "text/plain": [
       "Text(0, 0.5, 'Product')"
      ]
     },
     "execution_count": 23,
     "metadata": {},
     "output_type": "execute_result"
    },
    {
     "data": {
      "image/png": "[encoded data removed]",
      "text/plain": [
       "<Figure size 1152x648 with 1 Axes>"
      ]
     },
     "metadata": {
      "needs_background": "light"
     },
     "output_type": "display_data"
    }
   ],
   "source": [
    "#BAR PLOT\n",
    "fig3, ax3 = plt.subplots(figsize=(16, 9))\n",
    "#prod_u, counts = np.unique(product_issue_count['product'].values, return_counts=True)\n",
    "ax3.barh(product_issue_count['product'], product_issue_count['count'])\n",
    "    \n",
    "#ax2.set_title(\"Issue counts per product with (companies are bar colors)\")\n",
    "ax3.set_title(\"Issue counts per product\")\n",
    "ax3.set_xlabel('Issue Counts')\n",
    "ax3.set_ylabel('Product')"
   ]
  },
  {
   "cell_type": "code",
   "execution_count": 24,
   "id": "97e58ef5",
   "metadata": {},
   "outputs": [
    {
     "data": {
      "text/html": [
       "<div>\n",
       "<style scoped>\n",
       "    .dataframe tbody tr th:only-of-type {\n",
       "        vertical-align: middle;\n",
       "    }\n",
       "\n",
       "    .dataframe tbody tr th {\n",
       "        vertical-align: top;\n",
       "    }\n",
       "\n",
       "    .dataframe thead th {\n",
       "        text-align: right;\n",
       "    }\n",
       "</style>\n",
       "<table border=\"1\" class=\"dataframe\">\n",
       "  <thead>\n",
       "    <tr style=\"text-align: right;\">\n",
       "      <th></th>\n",
       "      <th>company</th>\n",
       "      <th>product</th>\n",
       "      <th>issue</th>\n",
       "      <th>0</th>\n",
       "    </tr>\n",
       "  </thead>\n",
       "  <tbody>\n",
       "    <tr>\n",
       "      <th>0</th>\n",
       "      <td>(Former)Shapiro, Swertfeger &amp; Hasty, LLP</td>\n",
       "      <td>Debt collection</td>\n",
       "      <td>Disclosure verification of debt</td>\n",
       "      <td>2</td>\n",
       "    </tr>\n",
       "    <tr>\n",
       "      <th>1</th>\n",
       "      <td>(Former)Shapiro, Swertfeger &amp; Hasty, LLP</td>\n",
       "      <td>Mortgage</td>\n",
       "      <td>Loan modification,collection,foreclosure</td>\n",
       "      <td>1</td>\n",
       "    </tr>\n",
       "    <tr>\n",
       "      <th>2</th>\n",
       "      <td>(Former)Shapiro, Swertfeger &amp; Hasty, LLP</td>\n",
       "      <td>Mortgage</td>\n",
       "      <td>Loan servicing, payments, escrow account</td>\n",
       "      <td>1</td>\n",
       "    </tr>\n",
       "    <tr>\n",
       "      <th>3</th>\n",
       "      <td>1st 2nd Mortgage Company Of NJ, Inc.</td>\n",
       "      <td>Mortgage</td>\n",
       "      <td>Application, originator, mortgage broker</td>\n",
       "      <td>1</td>\n",
       "    </tr>\n",
       "    <tr>\n",
       "      <th>4</th>\n",
       "      <td>1st Alliance Lending</td>\n",
       "      <td>Debt collection</td>\n",
       "      <td>Cont'd attempts collect debt not owed</td>\n",
       "      <td>1</td>\n",
       "    </tr>\n",
       "    <tr>\n",
       "      <th>...</th>\n",
       "      <td>...</td>\n",
       "      <td>...</td>\n",
       "      <td>...</td>\n",
       "      <td>...</td>\n",
       "    </tr>\n",
       "    <tr>\n",
       "      <th>18372</th>\n",
       "      <td>iQuantified Management Services, LLC</td>\n",
       "      <td>Debt collection</td>\n",
       "      <td>Cont'd attempts collect debt not owed</td>\n",
       "      <td>1</td>\n",
       "    </tr>\n",
       "    <tr>\n",
       "      <th>18373</th>\n",
       "      <td>iServe Trust</td>\n",
       "      <td>Mortgage</td>\n",
       "      <td>Credit decision / Underwriting</td>\n",
       "      <td>1</td>\n",
       "    </tr>\n",
       "    <tr>\n",
       "      <th>18374</th>\n",
       "      <td>iServe Trust</td>\n",
       "      <td>Mortgage</td>\n",
       "      <td>Loan modification,collection,foreclosure</td>\n",
       "      <td>4</td>\n",
       "    </tr>\n",
       "    <tr>\n",
       "      <th>18375</th>\n",
       "      <td>iServe Trust</td>\n",
       "      <td>Mortgage</td>\n",
       "      <td>Loan servicing, payments, escrow account</td>\n",
       "      <td>1</td>\n",
       "    </tr>\n",
       "    <tr>\n",
       "      <th>18376</th>\n",
       "      <td>iServe Trust</td>\n",
       "      <td>Mortgage</td>\n",
       "      <td>Other</td>\n",
       "      <td>1</td>\n",
       "    </tr>\n",
       "  </tbody>\n",
       "</table>\n",
       "<p>18377 rows × 4 columns</p>\n",
       "</div>"
      ],
      "text/plain": [
       "                                        company          product  \\\n",
       "0      (Former)Shapiro, Swertfeger & Hasty, LLP  Debt collection   \n",
       "1      (Former)Shapiro, Swertfeger & Hasty, LLP         Mortgage   \n",
       "2      (Former)Shapiro, Swertfeger & Hasty, LLP         Mortgage   \n",
       "3          1st 2nd Mortgage Company Of NJ, Inc.         Mortgage   \n",
       "4                          1st Alliance Lending  Debt collection   \n",
       "...                                         ...              ...   \n",
       "18372      iQuantified Management Services, LLC  Debt collection   \n",
       "18373                              iServe Trust         Mortgage   \n",
       "18374                              iServe Trust         Mortgage   \n",
       "18375                              iServe Trust         Mortgage   \n",
       "18376                              iServe Trust         Mortgage   \n",
       "\n",
       "                                          issue  0  \n",
       "0               Disclosure verification of debt  2  \n",
       "1      Loan modification,collection,foreclosure  1  \n",
       "2      Loan servicing, payments, escrow account  1  \n",
       "3      Application, originator, mortgage broker  1  \n",
       "4         Cont'd attempts collect debt not owed  1  \n",
       "...                                         ... ..  \n",
       "18372     Cont'd attempts collect debt not owed  1  \n",
       "18373            Credit decision / Underwriting  1  \n",
       "18374  Loan modification,collection,foreclosure  4  \n",
       "18375  Loan servicing, payments, escrow account  1  \n",
       "18376                                     Other  1  \n",
       "\n",
       "[18377 rows x 4 columns]"
      ]
     },
     "execution_count": 24,
     "metadata": {},
     "output_type": "execute_result"
    }
   ],
   "source": [
    "#Banks' products with highest issues\n",
    "bank_prod_count = df.groupby(['company', 'product', 'issue']).size().reset_index()\n",
    "bank_prod_count"
   ]
  },
  {
   "cell_type": "code",
   "execution_count": 134,
   "id": "5aa0caf7",
   "metadata": {},
   "outputs": [],
   "source": [
    "#@TODO Common words in complaints"
   ]
  },
  {
   "cell_type": "code",
   "execution_count": null,
   "id": "61231007",
   "metadata": {},
   "outputs": [],
   "source": [
    "#@TODO NLP prediction"
   ]
  }
 ],
 "metadata": {
  "kernelspec": {
   "display_name": "Python 3 (ipykernel)",
   "language": "python",
   "name": "python3"
  },
  "language_info": {
   "codemirror_mode": {
    "name": "ipython",
    "version": 3
   },
   "file_extension": ".py",
   "mimetype": "text/x-python",
   "name": "python",
   "nbconvert_exporter": "python",
   "pygments_lexer": "ipython3",
   "version": "3.9.12"
  }
 },
 "nbformat": 4,
 "nbformat_minor": 5
}
